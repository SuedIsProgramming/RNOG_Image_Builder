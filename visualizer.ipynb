{
 "cells": [
  {
   "cell_type": "code",
   "execution_count": 33,
   "id": "4efd183d",
   "metadata": {},
   "outputs": [
    {
     "name": "stdout",
     "output_type": "stream",
     "text": [
      "Files in albums folder: ['album.hdf5']\n",
      "Number of events: 102678\n",
      "Size of file: 13.6146 GB\n"
     ]
    }
   ],
   "source": [
    "import h5py\n",
    "import os\n",
    "\n",
    "albums_path = '/data/i3store/users/ssued/albums'\n",
    "hdf5_path = '/data/i3store/users/ssued/albums/album.hdf5'\n",
    "\n",
    "files = os.listdir(albums_path)\n",
    "\n",
    "print(f'Files in albums folder: {files}')\n",
    "\n",
    "with h5py.File(hdf5_path, 'a') as file:\n",
    "    num_keys = len(file.keys())\n",
    "    print(f'Number of events: {num_keys}')\n",
    "    #print(file.keys())\n",
    "\n",
    "size = os.path.getsize(hdf5_path)\n",
    "print(f'Size of file: {size*1e-9:.4f} GB')"
   ]
  },
  {
   "cell_type": "code",
   "execution_count": null,
   "id": "4e971079",
   "metadata": {},
   "outputs": [
    {
     "name": "stdout",
     "output_type": "stream",
     "text": [
      "Files in albums folder: ['album.hdf5']\n",
      "Number of events: 102678\n",
      "Size of file: 13.6146 GB\n"
     ]
    }
   ],
   "source": [
    "import os\n",
    "import h5py\n",
    "\n",
    "albums_path = '/data/i3store/users/ssued/albums'\n",
    "hdf5_path = '/data/i3store/users/ssued/albums/album.hdf5'\n",
    "\n",
    "files = os.listdir(albums_path)\n",
    "\n",
    "typical_shape = (16, 1024)\n",
    "\n",
    "print(f'Files in albums folder: {files}')\n",
    "\n",
    "with h5py.File(hdf5_path, 'a') as file:\n",
    "    num_keys = len(file.keys())\n",
    "    print(f'Number of events: {num_keys}')\n",
    "    for key in file.keys():\n",
    "        if file[key]['image'].shape != typical_shape:\n",
    "            print(f'{key} has invalid shape! {file[key]['image'].shape}')\n",
    "\n",
    "size = os.path.getsize(hdf5_path)\n",
    "print(f'Size of file: {size*1e-9:.4f} GB')"
   ]
  },
  {
   "cell_type": "code",
   "execution_count": 6,
   "id": "4626f071",
   "metadata": {},
   "outputs": [
    {
     "name": "stdout",
     "output_type": "stream",
     "text": [
      "-----------------------------------------------\n",
      "Mean line count: nan lines\n"
     ]
    }
   ],
   "source": [
    "import os\n",
    "import numpy as np\n",
    "\n",
    "log_path = '/data/condor_shared/users/ssued/RNOG_Image_Builder/jobs/jobs_logs'\n",
    "\n",
    "line_count_arr = []\n",
    "\n",
    "for file in os.listdir(log_path):\n",
    "    if file.endswith('.out') and not file.endswith('dagman.out'):\n",
    "        file_path = os.path.join(log_path, file)\n",
    "        try:\n",
    "            with open(file_path, 'r') as f:\n",
    "                line_count = sum(1 for line in f)\n",
    "                line_count_arr.append(line_count)\n",
    "            #print(f'{file}: {line_count} lines')\n",
    "        except (IOError, OSError) as e:\n",
    "            print(f'Error reading {file}: {e}')\n",
    "\n",
    "line_count_arr = np.array(line_count_arr)\n",
    "mean_line_count = np.mean(line_count_arr)\n",
    "\n",
    "print('-----------------------------------------------')\n",
    "print(f'Mean line count: {mean_line_count:.4f} lines')"
   ]
  },
  {
   "cell_type": "code",
   "execution_count": 25,
   "id": "55eef498",
   "metadata": {},
   "outputs": [],
   "source": [
    "import os\n",
    "import numpy as np\n",
    "\n",
    "log_path = '/data/condor_shared/users/ssued/RNOG_Image_Builder/jobs/jobs_logs'\n",
    "\n",
    "line_count_arr = []\n",
    "\n",
    "for file in os.listdir(log_path):\n",
    "    if file.endswith('.err'):\n",
    "        file_path = os.path.join(log_path, file)\n",
    "        try:\n",
    "            with open(file_path, 'r') as f:\n",
    "                line_count = sum(1 for line in f)\n",
    "                if line_count != 0:\n",
    "                    print(f'{file} has errors.')\n",
    "        except (IOError, OSError) as e:\n",
    "            print(f'Error reading {file}: {e}')"
   ]
  }
 ],
 "metadata": {
  "kernelspec": {
   "display_name": "venv (3.11.3)",
   "language": "python",
   "name": "python3"
  },
  "language_info": {
   "codemirror_mode": {
    "name": "ipython",
    "version": 3
   },
   "file_extension": ".py",
   "mimetype": "text/x-python",
   "name": "python",
   "nbconvert_exporter": "python",
   "pygments_lexer": "ipython3",
   "version": "3.11.3"
  }
 },
 "nbformat": 4,
 "nbformat_minor": 5
}
